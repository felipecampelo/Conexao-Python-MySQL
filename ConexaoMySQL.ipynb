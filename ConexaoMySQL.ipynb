{
  "nbformat": 4,
  "nbformat_minor": 0,
  "metadata": {
    "colab": {
      "name": "ConexãoMySQL.ipynb",
      "provenance": [],
      "authorship_tag": "ABX9TyPHh5q2gpBN8F/c+UwUpKKA",
      "include_colab_link": true
    },
    "kernelspec": {
      "name": "python3",
      "display_name": "Python 3"
    },
    "language_info": {
      "name": "python"
    }
  },
  "cells": [
    {
      "cell_type": "markdown",
      "metadata": {
        "id": "view-in-github",
        "colab_type": "text"
      },
      "source": [
        "<a href=\"https://colab.research.google.com/github/felipecampelo/Conexao-Python-MySQL/blob/main/ConexaoMySQL.ipynb\" target=\"_parent\"><img src=\"https://colab.research.google.com/assets/colab-badge.svg\" alt=\"Open In Colab\"/></a>"
      ]
    },
    {
      "cell_type": "markdown",
      "source": [
        "### ✅ Conexão Python com MySQL + CRUD ✅\n",
        "\n",
        "`Objetivo`: Realizar a conexão Python <-> MySQL e realizar as funções de CRUD (Create, Read, Update, Delete) no banco de dados usando o Python."
      ],
      "metadata": {
        "id": "ASGhMpCoRo3Q"
      }
    },
    {
      "cell_type": "markdown",
      "source": [
        "#### ⏩ Instalação de bibliotecas necessárias ⏪\n"
      ],
      "metadata": {
        "id": "_lEc1pVTSA94"
      }
    },
    {
      "cell_type": "code",
      "execution_count": null,
      "metadata": {
        "id": "FP2OcXVEsrLN"
      },
      "outputs": [],
      "source": [
        "# Instalação da biblioteca de conexão (Python <-> MySQL)\n",
        "!pip install mysql-connector-python"
      ]
    },
    {
      "cell_type": "markdown",
      "source": [
        "#### ⏩ Importação das bibliotecas ⏪\n"
      ],
      "metadata": {
        "id": "3WKrhaQBSUbZ"
      }
    },
    {
      "cell_type": "code",
      "source": [
        "# Importação das bibliotecas necessárias para a conexão\n",
        "import mysql.connector\n",
        "from mysql.connector import Error\n",
        "\n",
        "# Importação do Pandas para conversão em DataFrame\n",
        "import pandas as pd"
      ],
      "metadata": {
        "id": "qVA8hdYVtZDj"
      },
      "execution_count": 9,
      "outputs": []
    },
    {
      "cell_type": "markdown",
      "source": [
        "#### ⏩ Definição de funções ⏪"
      ],
      "metadata": {
        "id": "WZHcWGC2SZtF"
      }
    },
    {
      "cell_type": "code",
      "source": [
        "# Função para conectar ao database\n",
        "# Precisamos do nomedainstancia (host), nomedobanco (db), usuario (user), senha (password)\n",
        "def conexao_db(host, user, password, db):\n",
        "  conexao = None\n",
        "  try:\n",
        "    conexao = mysql.connector.connect(host = host, user = user, passwd = password, database = db)\n",
        "    print(f'Conexão com o banco {db} realizada com sucesso!')\n",
        "  except mysql.connector.Error as err:\n",
        "    print(f'Erro ao conectar com o banco {db}! {err}')\n",
        "\n",
        "  return conexao\n",
        "\n",
        "# Função que permite a execução do SQL\n",
        "def executar_sql(conexao, sql):\n",
        "  cursor = conexao.cursor(buffered=True)\n",
        "  try:\n",
        "    cursor.execute(sql)\n",
        "    conexao.commit()\n",
        "    print('Query executada com sucesso!')\n",
        "  except mysql.connector.Error as err:\n",
        "    print(f'Erro ao executar a query! {err}') \n",
        "\n",
        "# Função para dar um READ no banco de dados via python\n",
        "def leitura_sql(conexao, sql):\n",
        "  cursor = conexao.cursor()\n",
        "  try:\n",
        "    cursor.execute(sql)\n",
        "    return cursor.fetchall()\n",
        "  except mysql.connector.Error as err:\n",
        "    print(f'Erro ao listar os dados do banco! {err}')"
      ],
      "metadata": {
        "id": "d7Xs008FugVv"
      },
      "execution_count": 1,
      "outputs": []
    },
    {
      "cell_type": "markdown",
      "source": [
        "#### ⏩ Conexão com o MySQL ⏪"
      ],
      "metadata": {
        "id": "HOMnshasSkN2"
      }
    },
    {
      "cell_type": "code",
      "source": [
        "# Conectar ao banco de dados\n",
        "# Antes, preciso ir ao console, SQL > Connections > Add Network (para autorizar o colab a fazer a conexão) > 34.0.0.0/8 e 35.0.0.0/8 (IPs do Colab)\n",
        "con = conexao_db('34.69.112.221', 'root', 'root', 'soulcode')"
      ],
      "metadata": {
        "colab": {
          "base_uri": "https://localhost:8080/"
        },
        "id": "MCOSBzSx0yh4",
        "outputId": "403c0f47-ce28-494a-cd47-d9aac4cca74d"
      },
      "execution_count": 5,
      "outputs": [
        {
          "output_type": "stream",
          "name": "stdout",
          "text": [
            "Conexão com o banco soulcode realizada com sucesso!\n"
          ]
        }
      ]
    },
    {
      "cell_type": "markdown",
      "source": [
        "#### ⏩ CRUD ⏪\n"
      ],
      "metadata": {
        "id": "BqfCPgNKSrWf"
      }
    },
    {
      "cell_type": "code",
      "source": [
        "# INSERT no banco de dados via python\n",
        "query = \"INSERT INTO alunos VALUES (NULL, 'Priscila Meneguel', '103', '33333333333', '12341234', 'Rio de Janeiro', 'RJ')\"\n",
        "executar_sql(con, query)"
      ],
      "metadata": {
        "colab": {
          "base_uri": "https://localhost:8080/"
        },
        "id": "6Dh8c9hZ_8Yn",
        "outputId": "8e811b84-7ed0-4558-aa7e-1924dd8b1322"
      },
      "execution_count": 7,
      "outputs": [
        {
          "output_type": "stream",
          "name": "stdout",
          "text": [
            "Query executada com sucesso!\n"
          ]
        }
      ]
    },
    {
      "cell_type": "code",
      "source": [
        "# UPDATE no banco de dados via python\n",
        "query = \"UPDATE alunos SET cidade_aluno = 'Curitiba', estado_aluno = 'PR' WHERE id_aluno = 2\"\n",
        "executar_sql(con, query)"
      ],
      "metadata": {
        "colab": {
          "base_uri": "https://localhost:8080/"
        },
        "id": "2F67VZlqFTts",
        "outputId": "f069d20e-ed6c-4cd2-ca8b-f505340a8c72"
      },
      "execution_count": 24,
      "outputs": [
        {
          "output_type": "stream",
          "name": "stdout",
          "text": [
            "Query executada com sucesso!\n"
          ]
        }
      ]
    },
    {
      "cell_type": "code",
      "source": [
        "# DELETE no banco de dados via python\n",
        "query = \"DELETE FROM alunos WHERE id_aluno = 1\"\n",
        "executar_sql(con, query)"
      ],
      "metadata": {
        "colab": {
          "base_uri": "https://localhost:8080/"
        },
        "id": "n8mWGpYTGS0p",
        "outputId": "c00c2c69-e794-44ae-f110-e9ed028ff845"
      },
      "execution_count": 29,
      "outputs": [
        {
          "output_type": "stream",
          "name": "stdout",
          "text": [
            "Query executada com sucesso!\n"
          ]
        }
      ]
    },
    {
      "cell_type": "code",
      "source": [
        "# READ no banco de dados via python\n",
        "query = \"SELECT * FROM alunos\"\n",
        "alunos = leitura_sql(con, query)\n",
        "\n",
        "for i in alunos:\n",
        "  print(i)"
      ],
      "metadata": {
        "colab": {
          "base_uri": "https://localhost:8080/"
        },
        "id": "Zq5O7crTGJS0",
        "outputId": "3e285d9b-e5bf-4244-fcd2-f21e2a088224"
      },
      "execution_count": 8,
      "outputs": [
        {
          "output_type": "stream",
          "name": "stdout",
          "text": [
            "(2, 'Marcos Vinicius', '102', '22222222222', '321321321', 'Curitiba', 'PR')\n",
            "(3, 'Priscila Meneguel', '103', '33333333333', '12341234', 'Rio de Janeiro', 'RJ')\n"
          ]
        }
      ]
    },
    {
      "cell_type": "markdown",
      "source": [
        "#### ⏩ Conversão para DataFrame ⏪"
      ],
      "metadata": {
        "id": "C0AIl4mNSzqx"
      }
    },
    {
      "cell_type": "code",
      "source": [
        "# Convertendo em DataFrame\n",
        "\n",
        "colunas = ['id', 'nome_aluno', 'matricula_aluno', 'cpf_aluno', 'rg_aluno', 'cidade_aluno', 'estado_aluno']\n",
        "df = pd.DataFrame(alunos, columns = colunas)\n",
        "\n",
        "df"
      ],
      "metadata": {
        "colab": {
          "base_uri": "https://localhost:8080/",
          "height": 112
        },
        "id": "iR0Y5tXDaM-V",
        "outputId": "72fd362f-6053-4b71-9b9c-108e34c2a4e3"
      },
      "execution_count": 12,
      "outputs": [
        {
          "output_type": "execute_result",
          "data": {
            "text/plain": [
              "   id         nome_aluno matricula_aluno    cpf_aluno   rg_aluno  \\\n",
              "0   2    Marcos Vinicius             102  22222222222  321321321   \n",
              "1   3  Priscila Meneguel             103  33333333333   12341234   \n",
              "\n",
              "     cidade_aluno estado_aluno  \n",
              "0        Curitiba           PR  \n",
              "1  Rio de Janeiro           RJ  "
            ],
            "text/html": [
              "\n",
              "  <div id=\"df-80666941-8642-4358-9120-709d171e0867\">\n",
              "    <div class=\"colab-df-container\">\n",
              "      <div>\n",
              "<style scoped>\n",
              "    .dataframe tbody tr th:only-of-type {\n",
              "        vertical-align: middle;\n",
              "    }\n",
              "\n",
              "    .dataframe tbody tr th {\n",
              "        vertical-align: top;\n",
              "    }\n",
              "\n",
              "    .dataframe thead th {\n",
              "        text-align: right;\n",
              "    }\n",
              "</style>\n",
              "<table border=\"1\" class=\"dataframe\">\n",
              "  <thead>\n",
              "    <tr style=\"text-align: right;\">\n",
              "      <th></th>\n",
              "      <th>id</th>\n",
              "      <th>nome_aluno</th>\n",
              "      <th>matricula_aluno</th>\n",
              "      <th>cpf_aluno</th>\n",
              "      <th>rg_aluno</th>\n",
              "      <th>cidade_aluno</th>\n",
              "      <th>estado_aluno</th>\n",
              "    </tr>\n",
              "  </thead>\n",
              "  <tbody>\n",
              "    <tr>\n",
              "      <th>0</th>\n",
              "      <td>2</td>\n",
              "      <td>Marcos Vinicius</td>\n",
              "      <td>102</td>\n",
              "      <td>22222222222</td>\n",
              "      <td>321321321</td>\n",
              "      <td>Curitiba</td>\n",
              "      <td>PR</td>\n",
              "    </tr>\n",
              "    <tr>\n",
              "      <th>1</th>\n",
              "      <td>3</td>\n",
              "      <td>Priscila Meneguel</td>\n",
              "      <td>103</td>\n",
              "      <td>33333333333</td>\n",
              "      <td>12341234</td>\n",
              "      <td>Rio de Janeiro</td>\n",
              "      <td>RJ</td>\n",
              "    </tr>\n",
              "  </tbody>\n",
              "</table>\n",
              "</div>\n",
              "      <button class=\"colab-df-convert\" onclick=\"convertToInteractive('df-80666941-8642-4358-9120-709d171e0867')\"\n",
              "              title=\"Convert this dataframe to an interactive table.\"\n",
              "              style=\"display:none;\">\n",
              "        \n",
              "  <svg xmlns=\"http://www.w3.org/2000/svg\" height=\"24px\"viewBox=\"0 0 24 24\"\n",
              "       width=\"24px\">\n",
              "    <path d=\"M0 0h24v24H0V0z\" fill=\"none\"/>\n",
              "    <path d=\"M18.56 5.44l.94 2.06.94-2.06 2.06-.94-2.06-.94-.94-2.06-.94 2.06-2.06.94zm-11 1L8.5 8.5l.94-2.06 2.06-.94-2.06-.94L8.5 2.5l-.94 2.06-2.06.94zm10 10l.94 2.06.94-2.06 2.06-.94-2.06-.94-.94-2.06-.94 2.06-2.06.94z\"/><path d=\"M17.41 7.96l-1.37-1.37c-.4-.4-.92-.59-1.43-.59-.52 0-1.04.2-1.43.59L10.3 9.45l-7.72 7.72c-.78.78-.78 2.05 0 2.83L4 21.41c.39.39.9.59 1.41.59.51 0 1.02-.2 1.41-.59l7.78-7.78 2.81-2.81c.8-.78.8-2.07 0-2.86zM5.41 20L4 18.59l7.72-7.72 1.47 1.35L5.41 20z\"/>\n",
              "  </svg>\n",
              "      </button>\n",
              "      \n",
              "  <style>\n",
              "    .colab-df-container {\n",
              "      display:flex;\n",
              "      flex-wrap:wrap;\n",
              "      gap: 12px;\n",
              "    }\n",
              "\n",
              "    .colab-df-convert {\n",
              "      background-color: #E8F0FE;\n",
              "      border: none;\n",
              "      border-radius: 50%;\n",
              "      cursor: pointer;\n",
              "      display: none;\n",
              "      fill: #1967D2;\n",
              "      height: 32px;\n",
              "      padding: 0 0 0 0;\n",
              "      width: 32px;\n",
              "    }\n",
              "\n",
              "    .colab-df-convert:hover {\n",
              "      background-color: #E2EBFA;\n",
              "      box-shadow: 0px 1px 2px rgba(60, 64, 67, 0.3), 0px 1px 3px 1px rgba(60, 64, 67, 0.15);\n",
              "      fill: #174EA6;\n",
              "    }\n",
              "\n",
              "    [theme=dark] .colab-df-convert {\n",
              "      background-color: #3B4455;\n",
              "      fill: #D2E3FC;\n",
              "    }\n",
              "\n",
              "    [theme=dark] .colab-df-convert:hover {\n",
              "      background-color: #434B5C;\n",
              "      box-shadow: 0px 1px 3px 1px rgba(0, 0, 0, 0.15);\n",
              "      filter: drop-shadow(0px 1px 2px rgba(0, 0, 0, 0.3));\n",
              "      fill: #FFFFFF;\n",
              "    }\n",
              "  </style>\n",
              "\n",
              "      <script>\n",
              "        const buttonEl =\n",
              "          document.querySelector('#df-80666941-8642-4358-9120-709d171e0867 button.colab-df-convert');\n",
              "        buttonEl.style.display =\n",
              "          google.colab.kernel.accessAllowed ? 'block' : 'none';\n",
              "\n",
              "        async function convertToInteractive(key) {\n",
              "          const element = document.querySelector('#df-80666941-8642-4358-9120-709d171e0867');\n",
              "          const dataTable =\n",
              "            await google.colab.kernel.invokeFunction('convertToInteractive',\n",
              "                                                     [key], {});\n",
              "          if (!dataTable) return;\n",
              "\n",
              "          const docLinkHtml = 'Like what you see? Visit the ' +\n",
              "            '<a target=\"_blank\" href=https://colab.research.google.com/notebooks/data_table.ipynb>data table notebook</a>'\n",
              "            + ' to learn more about interactive tables.';\n",
              "          element.innerHTML = '';\n",
              "          dataTable['output_type'] = 'display_data';\n",
              "          await google.colab.output.renderOutput(dataTable, element);\n",
              "          const docLink = document.createElement('div');\n",
              "          docLink.innerHTML = docLinkHtml;\n",
              "          element.appendChild(docLink);\n",
              "        }\n",
              "      </script>\n",
              "    </div>\n",
              "  </div>\n",
              "  "
            ]
          },
          "metadata": {},
          "execution_count": 12
        }
      ]
    }
  ]
}